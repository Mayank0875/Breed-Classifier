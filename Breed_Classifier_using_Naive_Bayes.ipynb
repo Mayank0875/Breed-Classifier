{
  "nbformat": 4,
  "nbformat_minor": 0,
  "metadata": {
    "colab": {
      "provenance": [],
      "authorship_tag": "ABX9TyPPvLUJezdJANBSSwnLAQmW",
      "include_colab_link": true
    },
    "kernelspec": {
      "name": "python3",
      "display_name": "Python 3"
    },
    "language_info": {
      "name": "python"
    }
  },
  "cells": [
    {
      "cell_type": "markdown",
      "metadata": {
        "id": "view-in-github",
        "colab_type": "text"
      },
      "source": [
        "<a href=\"https://colab.research.google.com/github/Mayank0875/Breed-Classifier/blob/main/Breed_Classifier_using_Naive_Bayes.ipynb\" target=\"_parent\"><img src=\"https://colab.research.google.com/assets/colab-badge.svg\" alt=\"Open In Colab\"/></a>"
      ]
    },
    {
      "cell_type": "code",
      "execution_count": 39,
      "metadata": {
        "id": "dNI3edNTXBno"
      },
      "outputs": [],
      "source": [
        "import numpy as np\n",
        "import pandas as pd\n",
        "\n",
        "from scipy.special import erfinv\n",
        "from scipy.stats import norm, binom\n",
        "\n",
        "import matplotlib.pyplot as plt\n",
        "import seaborn as sns"
      ]
    },
    {
      "cell_type": "markdown",
      "source": [
        "# *Data Gernator using distribution*"
      ],
      "metadata": {
        "id": "-4Wdlz4HXbbE"
      }
    },
    {
      "cell_type": "code",
      "source": [
        "def uniform_gernator(a, b, num_values):\n",
        "  array = np.random.uniform(a, b, num_values)\n",
        "  return array"
      ],
      "metadata": {
        "id": "-fYxVF3sXJSH"
      },
      "execution_count": 40,
      "outputs": []
    },
    {
      "cell_type": "code",
      "source": [
        "def normal_gernator(mu, sigma, num_values):\n",
        "  y = uniform_gernator(0, 1, num_values)\n",
        "\n",
        "  x = mu + sigma * np.sqrt(2) * erfinv(2*y - 1)\n",
        "  return x"
      ],
      "metadata": {
        "id": "JzRyfTiCXyTw"
      },
      "execution_count": 41,
      "outputs": []
    },
    {
      "cell_type": "code",
      "source": [
        "def binomial_gernator(n, p, num_values):\n",
        "  y = uniform_gernator(0, 1, num_values)\n",
        "\n",
        "  x = binom.ppf(y, n, p)\n",
        "  return x"
      ],
      "metadata": {
        "id": "PV2vWGpYYcIS"
      },
      "execution_count": 42,
      "outputs": []
    },
    {
      "cell_type": "markdown",
      "source": [
        "# *Gernating Data*"
      ],
      "metadata": {
        "id": "fOs_QcJ7Y2IX"
      }
    },
    {
      "cell_type": "code",
      "source": [
        "features = ['height', 'weight', 'bark_days', 'ear_head_ratio']"
      ],
      "metadata": {
        "id": "I0MhUZOvY0gJ"
      },
      "execution_count": 43,
      "outputs": []
    },
    {
      "cell_type": "code",
      "source": [
        "from dataclasses import dataclass\n",
        "\n",
        "\n",
        "@dataclass\n",
        "class gaussian_params:\n",
        "  mu: float\n",
        "  sigma: float\n",
        "\n",
        "  def __repr__(self):\n",
        "    return f'gaussian_parms mu: {self.mu} and sigma: {self.sigma}'\n",
        "\n",
        "@dataclass\n",
        "class binomial_params:\n",
        "  n: int\n",
        "  p: float\n",
        "\n",
        "  def __repr__(self):\n",
        "    return f'binomial_parms n: {self.n} and p: {self.p}'\n",
        "\n",
        "@dataclass\n",
        "class uniform_params:\n",
        "  a: float\n",
        "  b: float\n",
        "\n",
        "  def __repr__(self):\n",
        "    return f'uniform_parms a: {self.a} and b: {self.b}'"
      ],
      "metadata": {
        "id": "TkooRRcqYrgK"
      },
      "execution_count": 44,
      "outputs": []
    },
    {
      "cell_type": "code",
      "source": [
        "breed_params = {\n",
        "    0: {\n",
        "        \"height\": gaussian_params(mu=35, sigma=1.5),\n",
        "        \"weight\": gaussian_params(mu=20, sigma=1),\n",
        "        \"bark_days\": binomial_params(n=30, p=0.8),\n",
        "        \"ear_head_ratio\": uniform_params(a=0.6, b=0.1)\n",
        "    },\n",
        "\n",
        "    1: {\n",
        "        \"height\": gaussian_params(mu=30, sigma=2),\n",
        "        \"weight\": gaussian_params(mu=25, sigma=5),\n",
        "        \"bark_days\": binomial_params(n=30, p=0.5),\n",
        "        \"ear_head_ratio\": uniform_params(a=0.2, b=0.5)\n",
        "    },\n",
        "\n",
        "    2: {\n",
        "        \"height\": gaussian_params(mu=40, sigma=3.5),\n",
        "        \"weight\": gaussian_params(mu=32, sigma=3),\n",
        "        \"bark_days\": binomial_params(n=30, p=0.3),\n",
        "        \"ear_head_ratio\": uniform_params(a=0.1, b=0.3)\n",
        "    }\n",
        "\n",
        "}"
      ],
      "metadata": {
        "id": "wUsP51qcabYW"
      },
      "execution_count": 45,
      "outputs": []
    },
    {
      "cell_type": "code",
      "source": [
        "def gernate_data_from_breed(breed, features, params, num_values):\n",
        "  df = pd.DataFrame()\n",
        "\n",
        "  for feature in features:\n",
        "    match feature:\n",
        "      case 'height' | 'weight':\n",
        "        df[feature] = normal_gernator(mu=params[breed][feature].mu, sigma=params[breed][feature].sigma, num_values=num_values)\n",
        "      case 'bark_days':\n",
        "        df[feature] = binomial_gernator(n=params[breed][feature].n, p=params[breed][feature].p, num_values=num_values)\n",
        "      case 'ear_head_ratio':\n",
        "        df[feature] = uniform_gernator(a=params[breed][feature].a, b=params[breed][feature].b, num_values=num_values)\n",
        "  df['breed'] = breed\n",
        "  return df"
      ],
      "metadata": {
        "id": "hEuATmRkcLMv"
      },
      "execution_count": 46,
      "outputs": []
    },
    {
      "cell_type": "code",
      "source": [
        "df_0 = gernate_data_from_breed(0, features, breed_params, 931)\n",
        "df_1 = gernate_data_from_breed(1, features, breed_params, 1000)\n",
        "df_2 = gernate_data_from_breed(2, features, breed_params, 1129)"
      ],
      "metadata": {
        "id": "1jeboqgQdbhj"
      },
      "execution_count": 47,
      "outputs": []
    },
    {
      "cell_type": "code",
      "source": [
        "df = pd.concat([df_0, df_1, df_2]).reset_index(drop=True)"
      ],
      "metadata": {
        "id": "rPdwgu9vdg5g"
      },
      "execution_count": 48,
      "outputs": []
    },
    {
      "cell_type": "code",
      "source": [
        "df.sample(frac = 1)"
      ],
      "metadata": {
        "colab": {
          "base_uri": "https://localhost:8080/",
          "height": 424
        },
        "id": "WvNNpR21dy1v",
        "outputId": "4e5293d2-cbd6-4d6e-a427-b3b9e89d0118"
      },
      "execution_count": 49,
      "outputs": [
        {
          "output_type": "execute_result",
          "data": {
            "text/plain": [
              "         height     weight  bark_days  ear_head_ratio  breed\n",
              "1699  30.825203  28.395341       17.0        0.304348      1\n",
              "818   35.143365  19.385873       27.0        0.585322      0\n",
              "2985  41.724384  31.013206        5.0        0.185404      2\n",
              "2391  31.600693  35.488375        7.0        0.199305      2\n",
              "1245  26.629651  20.030880       14.0        0.455983      1\n",
              "...         ...        ...        ...             ...    ...\n",
              "140   38.378386  19.601035       25.0        0.498021      0\n",
              "1340  30.094194  24.884594       11.0        0.404130      1\n",
              "86    35.408259  17.963661       26.0        0.274772      0\n",
              "2914  40.098788  32.896378        6.0        0.105593      2\n",
              "2962  35.696110  30.692942        9.0        0.207863      2\n",
              "\n",
              "[3060 rows x 5 columns]"
            ],
            "text/html": [
              "\n",
              "  <div id=\"df-0e39fc1c-68ea-42d6-a2ae-c940ed904498\" class=\"colab-df-container\">\n",
              "    <div>\n",
              "<style scoped>\n",
              "    .dataframe tbody tr th:only-of-type {\n",
              "        vertical-align: middle;\n",
              "    }\n",
              "\n",
              "    .dataframe tbody tr th {\n",
              "        vertical-align: top;\n",
              "    }\n",
              "\n",
              "    .dataframe thead th {\n",
              "        text-align: right;\n",
              "    }\n",
              "</style>\n",
              "<table border=\"1\" class=\"dataframe\">\n",
              "  <thead>\n",
              "    <tr style=\"text-align: right;\">\n",
              "      <th></th>\n",
              "      <th>height</th>\n",
              "      <th>weight</th>\n",
              "      <th>bark_days</th>\n",
              "      <th>ear_head_ratio</th>\n",
              "      <th>breed</th>\n",
              "    </tr>\n",
              "  </thead>\n",
              "  <tbody>\n",
              "    <tr>\n",
              "      <th>1699</th>\n",
              "      <td>30.825203</td>\n",
              "      <td>28.395341</td>\n",
              "      <td>17.0</td>\n",
              "      <td>0.304348</td>\n",
              "      <td>1</td>\n",
              "    </tr>\n",
              "    <tr>\n",
              "      <th>818</th>\n",
              "      <td>35.143365</td>\n",
              "      <td>19.385873</td>\n",
              "      <td>27.0</td>\n",
              "      <td>0.585322</td>\n",
              "      <td>0</td>\n",
              "    </tr>\n",
              "    <tr>\n",
              "      <th>2985</th>\n",
              "      <td>41.724384</td>\n",
              "      <td>31.013206</td>\n",
              "      <td>5.0</td>\n",
              "      <td>0.185404</td>\n",
              "      <td>2</td>\n",
              "    </tr>\n",
              "    <tr>\n",
              "      <th>2391</th>\n",
              "      <td>31.600693</td>\n",
              "      <td>35.488375</td>\n",
              "      <td>7.0</td>\n",
              "      <td>0.199305</td>\n",
              "      <td>2</td>\n",
              "    </tr>\n",
              "    <tr>\n",
              "      <th>1245</th>\n",
              "      <td>26.629651</td>\n",
              "      <td>20.030880</td>\n",
              "      <td>14.0</td>\n",
              "      <td>0.455983</td>\n",
              "      <td>1</td>\n",
              "    </tr>\n",
              "    <tr>\n",
              "      <th>...</th>\n",
              "      <td>...</td>\n",
              "      <td>...</td>\n",
              "      <td>...</td>\n",
              "      <td>...</td>\n",
              "      <td>...</td>\n",
              "    </tr>\n",
              "    <tr>\n",
              "      <th>140</th>\n",
              "      <td>38.378386</td>\n",
              "      <td>19.601035</td>\n",
              "      <td>25.0</td>\n",
              "      <td>0.498021</td>\n",
              "      <td>0</td>\n",
              "    </tr>\n",
              "    <tr>\n",
              "      <th>1340</th>\n",
              "      <td>30.094194</td>\n",
              "      <td>24.884594</td>\n",
              "      <td>11.0</td>\n",
              "      <td>0.404130</td>\n",
              "      <td>1</td>\n",
              "    </tr>\n",
              "    <tr>\n",
              "      <th>86</th>\n",
              "      <td>35.408259</td>\n",
              "      <td>17.963661</td>\n",
              "      <td>26.0</td>\n",
              "      <td>0.274772</td>\n",
              "      <td>0</td>\n",
              "    </tr>\n",
              "    <tr>\n",
              "      <th>2914</th>\n",
              "      <td>40.098788</td>\n",
              "      <td>32.896378</td>\n",
              "      <td>6.0</td>\n",
              "      <td>0.105593</td>\n",
              "      <td>2</td>\n",
              "    </tr>\n",
              "    <tr>\n",
              "      <th>2962</th>\n",
              "      <td>35.696110</td>\n",
              "      <td>30.692942</td>\n",
              "      <td>9.0</td>\n",
              "      <td>0.207863</td>\n",
              "      <td>2</td>\n",
              "    </tr>\n",
              "  </tbody>\n",
              "</table>\n",
              "<p>3060 rows × 5 columns</p>\n",
              "</div>\n",
              "    <div class=\"colab-df-buttons\">\n",
              "\n",
              "  <div class=\"colab-df-container\">\n",
              "    <button class=\"colab-df-convert\" onclick=\"convertToInteractive('df-0e39fc1c-68ea-42d6-a2ae-c940ed904498')\"\n",
              "            title=\"Convert this dataframe to an interactive table.\"\n",
              "            style=\"display:none;\">\n",
              "\n",
              "  <svg xmlns=\"http://www.w3.org/2000/svg\" height=\"24px\" viewBox=\"0 -960 960 960\">\n",
              "    <path d=\"M120-120v-720h720v720H120Zm60-500h600v-160H180v160Zm220 220h160v-160H400v160Zm0 220h160v-160H400v160ZM180-400h160v-160H180v160Zm440 0h160v-160H620v160ZM180-180h160v-160H180v160Zm440 0h160v-160H620v160Z\"/>\n",
              "  </svg>\n",
              "    </button>\n",
              "\n",
              "  <style>\n",
              "    .colab-df-container {\n",
              "      display:flex;\n",
              "      gap: 12px;\n",
              "    }\n",
              "\n",
              "    .colab-df-convert {\n",
              "      background-color: #E8F0FE;\n",
              "      border: none;\n",
              "      border-radius: 50%;\n",
              "      cursor: pointer;\n",
              "      display: none;\n",
              "      fill: #1967D2;\n",
              "      height: 32px;\n",
              "      padding: 0 0 0 0;\n",
              "      width: 32px;\n",
              "    }\n",
              "\n",
              "    .colab-df-convert:hover {\n",
              "      background-color: #E2EBFA;\n",
              "      box-shadow: 0px 1px 2px rgba(60, 64, 67, 0.3), 0px 1px 3px 1px rgba(60, 64, 67, 0.15);\n",
              "      fill: #174EA6;\n",
              "    }\n",
              "\n",
              "    .colab-df-buttons div {\n",
              "      margin-bottom: 4px;\n",
              "    }\n",
              "\n",
              "    [theme=dark] .colab-df-convert {\n",
              "      background-color: #3B4455;\n",
              "      fill: #D2E3FC;\n",
              "    }\n",
              "\n",
              "    [theme=dark] .colab-df-convert:hover {\n",
              "      background-color: #434B5C;\n",
              "      box-shadow: 0px 1px 3px 1px rgba(0, 0, 0, 0.15);\n",
              "      filter: drop-shadow(0px 1px 2px rgba(0, 0, 0, 0.3));\n",
              "      fill: #FFFFFF;\n",
              "    }\n",
              "  </style>\n",
              "\n",
              "    <script>\n",
              "      const buttonEl =\n",
              "        document.querySelector('#df-0e39fc1c-68ea-42d6-a2ae-c940ed904498 button.colab-df-convert');\n",
              "      buttonEl.style.display =\n",
              "        google.colab.kernel.accessAllowed ? 'block' : 'none';\n",
              "\n",
              "      async function convertToInteractive(key) {\n",
              "        const element = document.querySelector('#df-0e39fc1c-68ea-42d6-a2ae-c940ed904498');\n",
              "        const dataTable =\n",
              "          await google.colab.kernel.invokeFunction('convertToInteractive',\n",
              "                                                    [key], {});\n",
              "        if (!dataTable) return;\n",
              "\n",
              "        const docLinkHtml = 'Like what you see? Visit the ' +\n",
              "          '<a target=\"_blank\" href=https://colab.research.google.com/notebooks/data_table.ipynb>data table notebook</a>'\n",
              "          + ' to learn more about interactive tables.';\n",
              "        element.innerHTML = '';\n",
              "        dataTable['output_type'] = 'display_data';\n",
              "        await google.colab.output.renderOutput(dataTable, element);\n",
              "        const docLink = document.createElement('div');\n",
              "        docLink.innerHTML = docLinkHtml;\n",
              "        element.appendChild(docLink);\n",
              "      }\n",
              "    </script>\n",
              "  </div>\n",
              "\n",
              "\n",
              "<div id=\"df-de03503c-01f3-46e0-a2cf-d81afe8b808c\">\n",
              "  <button class=\"colab-df-quickchart\" onclick=\"quickchart('df-de03503c-01f3-46e0-a2cf-d81afe8b808c')\"\n",
              "            title=\"Suggest charts\"\n",
              "            style=\"display:none;\">\n",
              "\n",
              "<svg xmlns=\"http://www.w3.org/2000/svg\" height=\"24px\"viewBox=\"0 0 24 24\"\n",
              "     width=\"24px\">\n",
              "    <g>\n",
              "        <path d=\"M19 3H5c-1.1 0-2 .9-2 2v14c0 1.1.9 2 2 2h14c1.1 0 2-.9 2-2V5c0-1.1-.9-2-2-2zM9 17H7v-7h2v7zm4 0h-2V7h2v10zm4 0h-2v-4h2v4z\"/>\n",
              "    </g>\n",
              "</svg>\n",
              "  </button>\n",
              "\n",
              "<style>\n",
              "  .colab-df-quickchart {\n",
              "      --bg-color: #E8F0FE;\n",
              "      --fill-color: #1967D2;\n",
              "      --hover-bg-color: #E2EBFA;\n",
              "      --hover-fill-color: #174EA6;\n",
              "      --disabled-fill-color: #AAA;\n",
              "      --disabled-bg-color: #DDD;\n",
              "  }\n",
              "\n",
              "  [theme=dark] .colab-df-quickchart {\n",
              "      --bg-color: #3B4455;\n",
              "      --fill-color: #D2E3FC;\n",
              "      --hover-bg-color: #434B5C;\n",
              "      --hover-fill-color: #FFFFFF;\n",
              "      --disabled-bg-color: #3B4455;\n",
              "      --disabled-fill-color: #666;\n",
              "  }\n",
              "\n",
              "  .colab-df-quickchart {\n",
              "    background-color: var(--bg-color);\n",
              "    border: none;\n",
              "    border-radius: 50%;\n",
              "    cursor: pointer;\n",
              "    display: none;\n",
              "    fill: var(--fill-color);\n",
              "    height: 32px;\n",
              "    padding: 0;\n",
              "    width: 32px;\n",
              "  }\n",
              "\n",
              "  .colab-df-quickchart:hover {\n",
              "    background-color: var(--hover-bg-color);\n",
              "    box-shadow: 0 1px 2px rgba(60, 64, 67, 0.3), 0 1px 3px 1px rgba(60, 64, 67, 0.15);\n",
              "    fill: var(--button-hover-fill-color);\n",
              "  }\n",
              "\n",
              "  .colab-df-quickchart-complete:disabled,\n",
              "  .colab-df-quickchart-complete:disabled:hover {\n",
              "    background-color: var(--disabled-bg-color);\n",
              "    fill: var(--disabled-fill-color);\n",
              "    box-shadow: none;\n",
              "  }\n",
              "\n",
              "  .colab-df-spinner {\n",
              "    border: 2px solid var(--fill-color);\n",
              "    border-color: transparent;\n",
              "    border-bottom-color: var(--fill-color);\n",
              "    animation:\n",
              "      spin 1s steps(1) infinite;\n",
              "  }\n",
              "\n",
              "  @keyframes spin {\n",
              "    0% {\n",
              "      border-color: transparent;\n",
              "      border-bottom-color: var(--fill-color);\n",
              "      border-left-color: var(--fill-color);\n",
              "    }\n",
              "    20% {\n",
              "      border-color: transparent;\n",
              "      border-left-color: var(--fill-color);\n",
              "      border-top-color: var(--fill-color);\n",
              "    }\n",
              "    30% {\n",
              "      border-color: transparent;\n",
              "      border-left-color: var(--fill-color);\n",
              "      border-top-color: var(--fill-color);\n",
              "      border-right-color: var(--fill-color);\n",
              "    }\n",
              "    40% {\n",
              "      border-color: transparent;\n",
              "      border-right-color: var(--fill-color);\n",
              "      border-top-color: var(--fill-color);\n",
              "    }\n",
              "    60% {\n",
              "      border-color: transparent;\n",
              "      border-right-color: var(--fill-color);\n",
              "    }\n",
              "    80% {\n",
              "      border-color: transparent;\n",
              "      border-right-color: var(--fill-color);\n",
              "      border-bottom-color: var(--fill-color);\n",
              "    }\n",
              "    90% {\n",
              "      border-color: transparent;\n",
              "      border-bottom-color: var(--fill-color);\n",
              "    }\n",
              "  }\n",
              "</style>\n",
              "\n",
              "  <script>\n",
              "    async function quickchart(key) {\n",
              "      const quickchartButtonEl =\n",
              "        document.querySelector('#' + key + ' button');\n",
              "      quickchartButtonEl.disabled = true;  // To prevent multiple clicks.\n",
              "      quickchartButtonEl.classList.add('colab-df-spinner');\n",
              "      try {\n",
              "        const charts = await google.colab.kernel.invokeFunction(\n",
              "            'suggestCharts', [key], {});\n",
              "      } catch (error) {\n",
              "        console.error('Error during call to suggestCharts:', error);\n",
              "      }\n",
              "      quickchartButtonEl.classList.remove('colab-df-spinner');\n",
              "      quickchartButtonEl.classList.add('colab-df-quickchart-complete');\n",
              "    }\n",
              "    (() => {\n",
              "      let quickchartButtonEl =\n",
              "        document.querySelector('#df-de03503c-01f3-46e0-a2cf-d81afe8b808c button');\n",
              "      quickchartButtonEl.style.display =\n",
              "        google.colab.kernel.accessAllowed ? 'block' : 'none';\n",
              "    })();\n",
              "  </script>\n",
              "</div>\n",
              "\n",
              "    </div>\n",
              "  </div>\n"
            ],
            "application/vnd.google.colaboratory.intrinsic+json": {
              "type": "dataframe",
              "summary": "{\n  \"name\": \"df\",\n  \"rows\": 3060,\n  \"fields\": [\n    {\n      \"column\": \"height\",\n      \"properties\": {\n        \"dtype\": \"number\",\n        \"std\": 4.924363065368749,\n        \"min\": 24.013165451257308,\n        \"max\": 50.79761965340663,\n        \"num_unique_values\": 3060,\n        \"samples\": [\n          34.691180484914504,\n          30.64382453754401,\n          28.078372112729493\n        ],\n        \"semantic_type\": \"\",\n        \"description\": \"\"\n      }\n    },\n    {\n      \"column\": \"weight\",\n      \"properties\": {\n        \"dtype\": \"number\",\n        \"std\": 6.029398221591977,\n        \"min\": 5.717245779051623,\n        \"max\": 42.97447721152979,\n        \"num_unique_values\": 3060,\n        \"samples\": [\n          19.96034894245774,\n          22.17431728601822,\n          27.775329354623455\n        ],\n        \"semantic_type\": \"\",\n        \"description\": \"\"\n      }\n    },\n    {\n      \"column\": \"bark_days\",\n      \"properties\": {\n        \"dtype\": \"number\",\n        \"std\": 6.65794199755376,\n        \"min\": 1.0,\n        \"max\": 30.0,\n        \"num_unique_values\": 30,\n        \"samples\": [\n          29.0,\n          13.0,\n          4.0\n        ],\n        \"semantic_type\": \"\",\n        \"description\": \"\"\n      }\n    },\n    {\n      \"column\": \"ear_head_ratio\",\n      \"properties\": {\n        \"dtype\": \"number\",\n        \"std\": 0.12317894572978592,\n        \"min\": 0.10000105611050164,\n        \"max\": 0.5994920104041459,\n        \"num_unique_values\": 3060,\n        \"samples\": [\n          0.4201126807531291,\n          0.48662864821404184,\n          0.460262956631577\n        ],\n        \"semantic_type\": \"\",\n        \"description\": \"\"\n      }\n    },\n    {\n      \"column\": \"breed\",\n      \"properties\": {\n        \"dtype\": \"number\",\n        \"std\": 0,\n        \"min\": 0,\n        \"max\": 2,\n        \"num_unique_values\": 3,\n        \"samples\": [\n          1,\n          0,\n          2\n        ],\n        \"semantic_type\": \"\",\n        \"description\": \"\"\n      }\n    }\n  ]\n}"
            }
          },
          "metadata": {},
          "execution_count": 49
        }
      ]
    },
    {
      "cell_type": "code",
      "source": [
        "split = int(len(df) * 0.7)\n",
        "X_train = df[ : split]\n",
        "y_train = df[split : ]"
      ],
      "metadata": {
        "id": "0NNYTyaxd5lo"
      },
      "execution_count": 50,
      "outputs": []
    },
    {
      "cell_type": "code",
      "source": [
        "X_train.shape, y_train.shape"
      ],
      "metadata": {
        "colab": {
          "base_uri": "https://localhost:8080/"
        },
        "id": "3zBSrC7Leeea",
        "outputId": "8cfff9b1-68f2-4da3-dc55-53a0ed5f2aac"
      },
      "execution_count": 51,
      "outputs": [
        {
          "output_type": "execute_result",
          "data": {
            "text/plain": [
              "((2142, 5), (918, 5))"
            ]
          },
          "metadata": {},
          "execution_count": 51
        }
      ]
    },
    {
      "cell_type": "markdown",
      "source": [
        "# *PDF For distribution*"
      ],
      "metadata": {
        "id": "keMDiUUZfKUp"
      }
    },
    {
      "cell_type": "code",
      "source": [
        "def uniform_pdf(x, a, b):\n",
        "  return 0 if(x < a or x > b) else 1 / (b - a)"
      ],
      "metadata": {
        "id": "SEPPEVNBe6mD"
      },
      "execution_count": 52,
      "outputs": []
    },
    {
      "cell_type": "code",
      "source": [
        "def normal_pdf(x, mu, sigma):\n",
        "  coff = 1.0 / (np.sqrt(2 * np.pi))\n",
        "  expo = -0.5 * ((x - mu) / (2 * sigma))**2\n",
        "  pdf = coff * np.exp(expo)\n",
        "  return pdf\n"
      ],
      "metadata": {
        "id": "axs-YGbzGm9l"
      },
      "execution_count": 53,
      "outputs": []
    },
    {
      "cell_type": "code",
      "source": [
        "def binomial_pdf(x, n, p):\n",
        "  return binom.pmf(x, n, p)"
      ],
      "metadata": {
        "id": "bfVlxpRxHOey"
      },
      "execution_count": 54,
      "outputs": []
    },
    {
      "cell_type": "markdown",
      "source": [
        "# *Estimating Parameters on Training Data*"
      ],
      "metadata": {
        "id": "d1HKXwUywhtH"
      }
    },
    {
      "cell_type": "code",
      "source": [
        "def estimate_params(X_train, feature):\n",
        "  probs_dict = {}\n",
        "  params_dict = {}\n",
        "\n",
        "  for breed in X_train['breed'].unique():\n",
        "    probs_dict[breed] = len(X_train[X_train['breed'] == breed]) / len(X_train)\n",
        "\n",
        "    inner_dict = {}\n",
        "    for value in feature:\n",
        "      match value:\n",
        "        case 'height' | 'weight':\n",
        "          mu = X_train[X_train['breed'] == breed][value].mean()\n",
        "          sigma = X_train[X_train['breed'] == breed][value].std()\n",
        "          params = gaussian_params(mu, sigma)\n",
        "        case 'bark_days':\n",
        "          n = X_train[X_train['breed'] == breed][value].max()\n",
        "          p = X_train[X_train['breed'] == breed][value].mean() / n  # don't known how it come\n",
        "          params = binomial_params(n, p)\n",
        "        case 'ear_head_ratio':\n",
        "          a = X_train[X_train['breed'] == breed][value].min()\n",
        "          b = X_train[X_train['breed'] == breed][value].max()\n",
        "          params = uniform_params(a, b)\n",
        "\n",
        "      inner_dict[value] = params\n",
        "\n",
        "    params_dict[breed] = inner_dict\n",
        "\n",
        "  return probs_dict, params_dict\n"
      ],
      "metadata": {
        "id": "vFZxqo3uHW0j"
      },
      "execution_count": 55,
      "outputs": []
    },
    {
      "cell_type": "code",
      "source": [
        "# estimating prob and params\n",
        "\n",
        "train_probs, train_params = estimate_params(X_train, features)\n",
        "print(train_probs)\n",
        "print(train_params)"
      ],
      "metadata": {
        "colab": {
          "base_uri": "https://localhost:8080/"
        },
        "id": "WVKcUD8CzVsa",
        "outputId": "92caca62-f174-4dad-f018-44f91a684bcd"
      },
      "execution_count": 56,
      "outputs": [
        {
          "output_type": "stream",
          "name": "stdout",
          "text": [
            "{np.int64(0): 0.434640522875817, np.int64(1): 0.4668534080298786, np.int64(2): 0.09850606909430439}\n",
            "{np.int64(0): {'height': gaussian_parms mu: 35.12561288707957 and sigma: 1.517039659204027, 'weight': gaussian_parms mu: 20.00721087610682 and sigma: 0.9781496234363004, 'bark_days': binomial_parms n: 30.0 and p: 0.8006802721088435, 'ear_head_ratio': uniform_parms a: 0.10011833845374885 and b: 0.5994920104041459}, np.int64(1): {'height': gaussian_parms mu: 29.887411974219127 and sigma: 1.9735038862057845, 'weight': gaussian_parms mu: 24.821694968297003 and sigma: 5.043316566392466, 'bark_days': binomial_parms n: 24.0 and p: 0.6265416666666667, 'ear_head_ratio': uniform_parms a: 0.201293712143641 and b: 0.4999379541844825}, np.int64(2): {'height': gaussian_parms mu: 40.288764378440106 and sigma: 3.6070543224794953, 'weight': gaussian_parms mu: 31.969136604526668 and sigma: 2.8884460704161965, 'bark_days': binomial_parms n: 16.0 and p: 0.5556872037914692, 'ear_head_ratio': uniform_parms a: 0.10060614134299328 and b: 0.29996601742322904}}\n"
          ]
        }
      ]
    },
    {
      "cell_type": "markdown",
      "source": [
        "# *Predict Probablity For Featue*"
      ],
      "metadata": {
        "id": "1s-PtfwF7hw2"
      }
    },
    {
      "cell_type": "code",
      "source": [
        "def prob_of_x_given_breed(X, breed, feature, params):\n",
        "  probablity = 1\n",
        "\n",
        "  for x,value in zip(X,feature):\n",
        "    match value:\n",
        "      case 'height' | 'weight':\n",
        "        probablity *= normal_pdf(x, params[breed][value].mu, params[breed][value].sigma)\n",
        "      case 'bark_days':\n",
        "        probablity *=  binomial_pdf(x, params[breed][value].n, params[breed][value].p)\n",
        "      case 'ear_head_ratio':\n",
        "        probablity *= uniform_pdf(x, params[breed][value].a, params[breed][value].b)\n",
        "  return probablity"
      ],
      "metadata": {
        "id": "59ZVs4_-zndH"
      },
      "execution_count": 57,
      "outputs": []
    },
    {
      "cell_type": "code",
      "source": [
        "# tesing with sigle featue\n",
        "\n",
        "X = y_train[features].iloc[0]\n",
        "\n",
        "prob_with_0 = prob_of_x_given_breed(X, 0, features, train_params)\n",
        "prob_with_1 = prob_of_x_given_breed(X, 1, features, train_params)\n",
        "prob_with_2 = prob_of_x_given_breed(X, 2, features, train_params)\n",
        "\n",
        "print(prob_with_0)\n",
        "print(prob_with_1)\n",
        "print(prob_with_2)\n"
      ],
      "metadata": {
        "colab": {
          "base_uri": "https://localhost:8080/"
        },
        "id": "vzzvOgHh04kT",
        "outputId": "c0075768-f9e8-4c55-eee6-5f876d85c2f0"
      },
      "execution_count": 58,
      "outputs": [
        {
          "output_type": "stream",
          "name": "stdout",
          "text": [
            "5.806958380454158e-20\n",
            "0.0014423301708752065\n",
            "0.10885499532303018\n"
          ]
        }
      ]
    },
    {
      "cell_type": "code",
      "source": [
        "def predict_breed(x, features, params):\n",
        "  prob_with_0 = prob_of_x_given_breed(x, 0, features, params)\n",
        "  prob_with_1 = prob_of_x_given_breed(x, 1, features, params)\n",
        "  prob_with_2 = prob_of_x_given_breed(x, 2, features, params)\n",
        "\n",
        "  max_prob = np.array([prob_with_0, prob_with_1, prob_with_2])\n",
        "  breed =  np.argmax(max_prob)\n",
        "  return breed"
      ],
      "metadata": {
        "id": "K57hnOpW3VY6"
      },
      "execution_count": 59,
      "outputs": []
    },
    {
      "cell_type": "code",
      "source": [
        "predict_breed(X, features, train_params)"
      ],
      "metadata": {
        "colab": {
          "base_uri": "https://localhost:8080/"
        },
        "id": "LFS3aId05xXv",
        "outputId": "4e85f1ec-030c-49ba-8f69-d28839f84f67"
      },
      "execution_count": 60,
      "outputs": [
        {
          "output_type": "execute_result",
          "data": {
            "text/plain": [
              "np.int64(2)"
            ]
          },
          "metadata": {},
          "execution_count": 60
        }
      ]
    },
    {
      "cell_type": "code",
      "source": [
        "def accuracy_score(y_true, y_pred):\n",
        "  return np.sum(y_true == y_pred) / len(y_true)"
      ],
      "metadata": {
        "id": "cTxR1cWc63lc"
      },
      "execution_count": 61,
      "outputs": []
    },
    {
      "cell_type": "code",
      "source": [
        "preds = y_train.apply(lambda x: predict_breed([*x[features]], features, train_params), axis=1)\n",
        "test_acc = accuracy_score(y_train[\"breed\"], preds)\n",
        "\n",
        "print(f\"Accuracy score for the test split: {test_acc:.2f}\")"
      ],
      "metadata": {
        "colab": {
          "base_uri": "https://localhost:8080/"
        },
        "id": "G_T3gO_a56iB",
        "outputId": "b2d5e558-75b3-4e3c-ec1e-0db8c856c8fd"
      },
      "execution_count": 62,
      "outputs": [
        {
          "output_type": "stream",
          "name": "stdout",
          "text": [
            "Accuracy score for the test split: 0.98\n"
          ]
        }
      ]
    }
  ]
}